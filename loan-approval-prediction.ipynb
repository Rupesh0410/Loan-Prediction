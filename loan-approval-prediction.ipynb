{
 "cells": [
  {
   "cell_type": "markdown",
   "id": "1869a52a",
   "metadata": {
    "papermill": {
     "duration": 0.007725,
     "end_time": "2022-10-31T01:43:14.599467",
     "exception": false,
     "start_time": "2022-10-31T01:43:14.591742",
     "status": "completed"
    },
    "tags": []
   },
   "source": [
    "## This Notebook tells about whether a loan is approved or not"
   ]
  },
  {
   "cell_type": "code",
   "execution_count": 4,
   "id": "3e1a0e7d",
   "metadata": {
    "_cell_guid": "b1076dfc-b9ad-4769-8c92-a6c4dae69d19",
    "_uuid": "8f2839f25d086af736a60e9eeb907d3b93b6e0e5",
    "execution": {
     "iopub.execute_input": "2022-10-31T01:43:14.617714Z",
     "iopub.status.busy": "2022-10-31T01:43:14.616659Z",
     "iopub.status.idle": "2022-10-31T01:43:15.691566Z",
     "shell.execute_reply": "2022-10-31T01:43:15.689829Z"
    },
    "papermill": {
     "duration": 1.086921,
     "end_time": "2022-10-31T01:43:15.694773",
     "exception": false,
     "start_time": "2022-10-31T01:43:14.607852",
     "status": "completed"
    },
    "tags": []
   },
   "outputs": [],
   "source": [
    "import numpy as np # linear algebra\n",
    "import pandas as pd # data processing, CSV file I/O (e.g. pd.read_csv)\n",
    "import matplotlib.pyplot as plt\n",
    "import seaborn as sns \n",
    "import warnings\n",
    "warnings.filterwarnings('ignore')\n",
    "import os\n",
    "for dirname, _, filenames in os.walk('/kaggle/input'):\n",
    "    for filename in filenames:\n",
    "        print(os.path.join(dirname, filename))\n",
    "\n",
    "# You can write up to 20GB to the current directory (/kaggle/working/) that gets preserved as output when you create a version using \"Save & Run All\" \n",
    "# You can also write temporary files to /kaggle/temp/, but they won't be saved outside of the current session"
   ]
  },
  {
   "cell_type": "code",
   "execution_count": 5,
   "id": "790cc9e5",
   "metadata": {
    "execution": {
     "iopub.execute_input": "2022-10-31T01:43:15.711853Z",
     "iopub.status.busy": "2022-10-31T01:43:15.711477Z",
     "iopub.status.idle": "2022-10-31T01:43:15.756748Z",
     "shell.execute_reply": "2022-10-31T01:43:15.755596Z"
    },
    "papermill": {
     "duration": 0.057012,
     "end_time": "2022-10-31T01:43:15.759646",
     "exception": false,
     "start_time": "2022-10-31T01:43:15.702634",
     "status": "completed"
    },
    "tags": []
   },
   "outputs": [
    {
     "data": {
      "text/html": [
       "<div>\n",
       "<style scoped>\n",
       "    .dataframe tbody tr th:only-of-type {\n",
       "        vertical-align: middle;\n",
       "    }\n",
       "\n",
       "    .dataframe tbody tr th {\n",
       "        vertical-align: top;\n",
       "    }\n",
       "\n",
       "    .dataframe thead th {\n",
       "        text-align: right;\n",
       "    }\n",
       "</style>\n",
       "<table border=\"1\" class=\"dataframe\">\n",
       "  <thead>\n",
       "    <tr style=\"text-align: right;\">\n",
       "      <th></th>\n",
       "      <th>Loan_ID</th>\n",
       "      <th>Gender</th>\n",
       "      <th>Married</th>\n",
       "      <th>Dependents</th>\n",
       "      <th>Education</th>\n",
       "      <th>Self_Employed</th>\n",
       "      <th>ApplicantIncome</th>\n",
       "      <th>CoapplicantIncome</th>\n",
       "      <th>LoanAmount</th>\n",
       "      <th>Loan_Amount_Term</th>\n",
       "      <th>Credit_History</th>\n",
       "      <th>Property_Area</th>\n",
       "    </tr>\n",
       "  </thead>\n",
       "  <tbody>\n",
       "    <tr>\n",
       "      <th>0</th>\n",
       "      <td>LP001015</td>\n",
       "      <td>Male</td>\n",
       "      <td>Yes</td>\n",
       "      <td>0</td>\n",
       "      <td>Graduate</td>\n",
       "      <td>No</td>\n",
       "      <td>5720</td>\n",
       "      <td>0</td>\n",
       "      <td>110.0</td>\n",
       "      <td>360.0</td>\n",
       "      <td>1.0</td>\n",
       "      <td>Urban</td>\n",
       "    </tr>\n",
       "    <tr>\n",
       "      <th>1</th>\n",
       "      <td>LP001022</td>\n",
       "      <td>Male</td>\n",
       "      <td>Yes</td>\n",
       "      <td>1</td>\n",
       "      <td>Graduate</td>\n",
       "      <td>No</td>\n",
       "      <td>3076</td>\n",
       "      <td>1500</td>\n",
       "      <td>126.0</td>\n",
       "      <td>360.0</td>\n",
       "      <td>1.0</td>\n",
       "      <td>Urban</td>\n",
       "    </tr>\n",
       "    <tr>\n",
       "      <th>2</th>\n",
       "      <td>LP001031</td>\n",
       "      <td>Male</td>\n",
       "      <td>Yes</td>\n",
       "      <td>2</td>\n",
       "      <td>Graduate</td>\n",
       "      <td>No</td>\n",
       "      <td>5000</td>\n",
       "      <td>1800</td>\n",
       "      <td>208.0</td>\n",
       "      <td>360.0</td>\n",
       "      <td>1.0</td>\n",
       "      <td>Urban</td>\n",
       "    </tr>\n",
       "    <tr>\n",
       "      <th>3</th>\n",
       "      <td>LP001035</td>\n",
       "      <td>Male</td>\n",
       "      <td>Yes</td>\n",
       "      <td>2</td>\n",
       "      <td>Graduate</td>\n",
       "      <td>No</td>\n",
       "      <td>2340</td>\n",
       "      <td>2546</td>\n",
       "      <td>100.0</td>\n",
       "      <td>360.0</td>\n",
       "      <td>NaN</td>\n",
       "      <td>Urban</td>\n",
       "    </tr>\n",
       "    <tr>\n",
       "      <th>4</th>\n",
       "      <td>LP001051</td>\n",
       "      <td>Male</td>\n",
       "      <td>No</td>\n",
       "      <td>0</td>\n",
       "      <td>Not Graduate</td>\n",
       "      <td>No</td>\n",
       "      <td>3276</td>\n",
       "      <td>0</td>\n",
       "      <td>78.0</td>\n",
       "      <td>360.0</td>\n",
       "      <td>1.0</td>\n",
       "      <td>Urban</td>\n",
       "    </tr>\n",
       "  </tbody>\n",
       "</table>\n",
       "</div>"
      ],
      "text/plain": [
       "    Loan_ID Gender Married Dependents     Education Self_Employed  \\\n",
       "0  LP001015   Male     Yes          0      Graduate            No   \n",
       "1  LP001022   Male     Yes          1      Graduate            No   \n",
       "2  LP001031   Male     Yes          2      Graduate            No   \n",
       "3  LP001035   Male     Yes          2      Graduate            No   \n",
       "4  LP001051   Male      No          0  Not Graduate            No   \n",
       "\n",
       "   ApplicantIncome  CoapplicantIncome  LoanAmount  Loan_Amount_Term  \\\n",
       "0             5720                  0       110.0             360.0   \n",
       "1             3076               1500       126.0             360.0   \n",
       "2             5000               1800       208.0             360.0   \n",
       "3             2340               2546       100.0             360.0   \n",
       "4             3276                  0        78.0             360.0   \n",
       "\n",
       "   Credit_History Property_Area  \n",
       "0             1.0         Urban  \n",
       "1             1.0         Urban  \n",
       "2             1.0         Urban  \n",
       "3             NaN         Urban  \n",
       "4             1.0         Urban  "
      ]
     },
     "execution_count": 5,
     "metadata": {},
     "output_type": "execute_result"
    }
   ],
   "source": [
    "df=pd.read_csv(r\"C:\\Users\\rajru\\OneDrive\\Desktop\\Project\\Loan Prediction/test_Y3wMUE5_7gLdaTN.csv\")\n",
    "df.head()"
   ]
  },
  {
   "cell_type": "code",
   "execution_count": 6,
   "id": "33b2572c",
   "metadata": {
    "execution": {
     "iopub.execute_input": "2022-10-31T01:43:15.776684Z",
     "iopub.status.busy": "2022-10-31T01:43:15.776303Z",
     "iopub.status.idle": "2022-10-31T01:43:15.783187Z",
     "shell.execute_reply": "2022-10-31T01:43:15.782013Z"
    },
    "papermill": {
     "duration": 0.018063,
     "end_time": "2022-10-31T01:43:15.785553",
     "exception": false,
     "start_time": "2022-10-31T01:43:15.767490",
     "status": "completed"
    },
    "tags": []
   },
   "outputs": [
    {
     "data": {
      "text/plain": [
       "(367, 12)"
      ]
     },
     "execution_count": 6,
     "metadata": {},
     "output_type": "execute_result"
    }
   ],
   "source": [
    "df.shape"
   ]
  },
  {
   "cell_type": "code",
   "execution_count": 7,
   "id": "d1101975",
   "metadata": {
    "execution": {
     "iopub.execute_input": "2022-10-31T01:43:15.803861Z",
     "iopub.status.busy": "2022-10-31T01:43:15.803205Z",
     "iopub.status.idle": "2022-10-31T01:43:15.809270Z",
     "shell.execute_reply": "2022-10-31T01:43:15.808292Z"
    },
    "papermill": {
     "duration": 0.017626,
     "end_time": "2022-10-31T01:43:15.811336",
     "exception": false,
     "start_time": "2022-10-31T01:43:15.793710",
     "status": "completed"
    },
    "tags": []
   },
   "outputs": [
    {
     "data": {
      "text/plain": [
       "4404"
      ]
     },
     "execution_count": 7,
     "metadata": {},
     "output_type": "execute_result"
    }
   ],
   "source": [
    "df.size"
   ]
  },
  {
   "cell_type": "code",
   "execution_count": 8,
   "id": "3cb97881",
   "metadata": {
    "execution": {
     "iopub.execute_input": "2022-10-31T01:43:15.829331Z",
     "iopub.status.busy": "2022-10-31T01:43:15.828267Z",
     "iopub.status.idle": "2022-10-31T01:43:15.866786Z",
     "shell.execute_reply": "2022-10-31T01:43:15.865323Z"
    },
    "papermill": {
     "duration": 0.050564,
     "end_time": "2022-10-31T01:43:15.869738",
     "exception": false,
     "start_time": "2022-10-31T01:43:15.819174",
     "status": "completed"
    },
    "tags": []
   },
   "outputs": [
    {
     "data": {
      "text/html": [
       "<div>\n",
       "<style scoped>\n",
       "    .dataframe tbody tr th:only-of-type {\n",
       "        vertical-align: middle;\n",
       "    }\n",
       "\n",
       "    .dataframe tbody tr th {\n",
       "        vertical-align: top;\n",
       "    }\n",
       "\n",
       "    .dataframe thead th {\n",
       "        text-align: right;\n",
       "    }\n",
       "</style>\n",
       "<table border=\"1\" class=\"dataframe\">\n",
       "  <thead>\n",
       "    <tr style=\"text-align: right;\">\n",
       "      <th></th>\n",
       "      <th>count</th>\n",
       "      <th>mean</th>\n",
       "      <th>std</th>\n",
       "      <th>min</th>\n",
       "      <th>25%</th>\n",
       "      <th>50%</th>\n",
       "      <th>75%</th>\n",
       "      <th>max</th>\n",
       "    </tr>\n",
       "  </thead>\n",
       "  <tbody>\n",
       "    <tr>\n",
       "      <th>ApplicantIncome</th>\n",
       "      <td>367.0</td>\n",
       "      <td>4805.599455</td>\n",
       "      <td>4910.685399</td>\n",
       "      <td>0.0</td>\n",
       "      <td>2864.00</td>\n",
       "      <td>3786.0</td>\n",
       "      <td>5060.0</td>\n",
       "      <td>72529.0</td>\n",
       "    </tr>\n",
       "    <tr>\n",
       "      <th>CoapplicantIncome</th>\n",
       "      <td>367.0</td>\n",
       "      <td>1569.577657</td>\n",
       "      <td>2334.232099</td>\n",
       "      <td>0.0</td>\n",
       "      <td>0.00</td>\n",
       "      <td>1025.0</td>\n",
       "      <td>2430.5</td>\n",
       "      <td>24000.0</td>\n",
       "    </tr>\n",
       "    <tr>\n",
       "      <th>LoanAmount</th>\n",
       "      <td>362.0</td>\n",
       "      <td>136.132597</td>\n",
       "      <td>61.366652</td>\n",
       "      <td>28.0</td>\n",
       "      <td>100.25</td>\n",
       "      <td>125.0</td>\n",
       "      <td>158.0</td>\n",
       "      <td>550.0</td>\n",
       "    </tr>\n",
       "    <tr>\n",
       "      <th>Loan_Amount_Term</th>\n",
       "      <td>361.0</td>\n",
       "      <td>342.537396</td>\n",
       "      <td>65.156643</td>\n",
       "      <td>6.0</td>\n",
       "      <td>360.00</td>\n",
       "      <td>360.0</td>\n",
       "      <td>360.0</td>\n",
       "      <td>480.0</td>\n",
       "    </tr>\n",
       "    <tr>\n",
       "      <th>Credit_History</th>\n",
       "      <td>338.0</td>\n",
       "      <td>0.825444</td>\n",
       "      <td>0.380150</td>\n",
       "      <td>0.0</td>\n",
       "      <td>1.00</td>\n",
       "      <td>1.0</td>\n",
       "      <td>1.0</td>\n",
       "      <td>1.0</td>\n",
       "    </tr>\n",
       "  </tbody>\n",
       "</table>\n",
       "</div>"
      ],
      "text/plain": [
       "                   count         mean          std   min      25%     50%  \\\n",
       "ApplicantIncome    367.0  4805.599455  4910.685399   0.0  2864.00  3786.0   \n",
       "CoapplicantIncome  367.0  1569.577657  2334.232099   0.0     0.00  1025.0   \n",
       "LoanAmount         362.0   136.132597    61.366652  28.0   100.25   125.0   \n",
       "Loan_Amount_Term   361.0   342.537396    65.156643   6.0   360.00   360.0   \n",
       "Credit_History     338.0     0.825444     0.380150   0.0     1.00     1.0   \n",
       "\n",
       "                      75%      max  \n",
       "ApplicantIncome    5060.0  72529.0  \n",
       "CoapplicantIncome  2430.5  24000.0  \n",
       "LoanAmount          158.0    550.0  \n",
       "Loan_Amount_Term    360.0    480.0  \n",
       "Credit_History        1.0      1.0  "
      ]
     },
     "execution_count": 8,
     "metadata": {},
     "output_type": "execute_result"
    }
   ],
   "source": [
    "df.describe().T"
   ]
  },
  {
   "cell_type": "markdown",
   "id": "fa9b2d4e",
   "metadata": {
    "papermill": {
     "duration": 0.00763,
     "end_time": "2022-10-31T01:43:15.886271",
     "exception": false,
     "start_time": "2022-10-31T01:43:15.878641",
     "status": "completed"
    },
    "tags": []
   },
   "source": [
    "### Treating with Null values \n",
    "#### Using fillna and interpolate we're going to perform cleaning on this data"
   ]
  },
  {
   "cell_type": "code",
   "execution_count": 9,
   "id": "a494bcd5",
   "metadata": {
    "execution": {
     "iopub.execute_input": "2022-10-31T01:43:15.904415Z",
     "iopub.status.busy": "2022-10-31T01:43:15.904044Z",
     "iopub.status.idle": "2022-10-31T01:43:15.913745Z",
     "shell.execute_reply": "2022-10-31T01:43:15.912863Z"
    },
    "papermill": {
     "duration": 0.020774,
     "end_time": "2022-10-31T01:43:15.915899",
     "exception": false,
     "start_time": "2022-10-31T01:43:15.895125",
     "status": "completed"
    },
    "tags": []
   },
   "outputs": [
    {
     "data": {
      "text/plain": [
       "Loan_ID               0\n",
       "Gender               11\n",
       "Married               0\n",
       "Dependents           10\n",
       "Education             0\n",
       "Self_Employed        23\n",
       "ApplicantIncome       0\n",
       "CoapplicantIncome     0\n",
       "LoanAmount            5\n",
       "Loan_Amount_Term      6\n",
       "Credit_History       29\n",
       "Property_Area         0\n",
       "dtype: int64"
      ]
     },
     "execution_count": 9,
     "metadata": {},
     "output_type": "execute_result"
    }
   ],
   "source": [
    "df.isnull().sum()"
   ]
  },
  {
   "cell_type": "code",
   "execution_count": 10,
   "id": "68c75636",
   "metadata": {
    "execution": {
     "iopub.execute_input": "2022-10-31T01:43:15.934413Z",
     "iopub.status.busy": "2022-10-31T01:43:15.933481Z",
     "iopub.status.idle": "2022-10-31T01:43:15.943102Z",
     "shell.execute_reply": "2022-10-31T01:43:15.941683Z"
    },
    "papermill": {
     "duration": 0.021974,
     "end_time": "2022-10-31T01:43:15.945937",
     "exception": false,
     "start_time": "2022-10-31T01:43:15.923963",
     "status": "completed"
    },
    "tags": []
   },
   "outputs": [],
   "source": [
    "df.fillna(method='ffill',inplace=True)"
   ]
  },
  {
   "cell_type": "code",
   "execution_count": 11,
   "id": "61dc4632",
   "metadata": {
    "execution": {
     "iopub.execute_input": "2022-10-31T01:43:15.963972Z",
     "iopub.status.busy": "2022-10-31T01:43:15.963573Z",
     "iopub.status.idle": "2022-10-31T01:43:15.974651Z",
     "shell.execute_reply": "2022-10-31T01:43:15.973124Z"
    },
    "papermill": {
     "duration": 0.023432,
     "end_time": "2022-10-31T01:43:15.977524",
     "exception": false,
     "start_time": "2022-10-31T01:43:15.954092",
     "status": "completed"
    },
    "tags": []
   },
   "outputs": [],
   "source": [
    "df.fillna(method='bfill',inplace=True)"
   ]
  },
  {
   "cell_type": "code",
   "execution_count": 12,
   "id": "4e7404ca",
   "metadata": {
    "execution": {
     "iopub.execute_input": "2022-10-31T01:43:15.996254Z",
     "iopub.status.busy": "2022-10-31T01:43:15.995370Z",
     "iopub.status.idle": "2022-10-31T01:43:16.005131Z",
     "shell.execute_reply": "2022-10-31T01:43:16.004448Z"
    },
    "papermill": {
     "duration": 0.020868,
     "end_time": "2022-10-31T01:43:16.007119",
     "exception": false,
     "start_time": "2022-10-31T01:43:15.986251",
     "status": "completed"
    },
    "tags": []
   },
   "outputs": [
    {
     "data": {
      "text/plain": [
       "Loan_ID              0\n",
       "Gender               0\n",
       "Married              0\n",
       "Dependents           0\n",
       "Education            0\n",
       "Self_Employed        0\n",
       "ApplicantIncome      0\n",
       "CoapplicantIncome    0\n",
       "LoanAmount           0\n",
       "Loan_Amount_Term     0\n",
       "Credit_History       0\n",
       "Property_Area        0\n",
       "dtype: int64"
      ]
     },
     "execution_count": 12,
     "metadata": {},
     "output_type": "execute_result"
    }
   ],
   "source": [
    "df.isnull().sum()"
   ]
  },
  {
   "cell_type": "code",
   "execution_count": 13,
   "id": "27b07e4d",
   "metadata": {
    "execution": {
     "iopub.execute_input": "2022-10-31T01:43:16.025340Z",
     "iopub.status.busy": "2022-10-31T01:43:16.024691Z",
     "iopub.status.idle": "2022-10-31T01:43:16.205166Z",
     "shell.execute_reply": "2022-10-31T01:43:16.203958Z"
    },
    "papermill": {
     "duration": 0.192182,
     "end_time": "2022-10-31T01:43:16.207389",
     "exception": false,
     "start_time": "2022-10-31T01:43:16.015207",
     "status": "completed"
    },
    "tags": []
   },
   "outputs": [
    {
     "ename": "ValueError",
     "evalue": "Could not interpret value `Loan_Status` for `hue`. An entry with this name does not appear in `data`.",
     "output_type": "error",
     "traceback": [
      "\u001b[1;31m---------------------------------------------------------------------------\u001b[0m",
      "\u001b[1;31mValueError\u001b[0m                                Traceback (most recent call last)",
      "Input \u001b[1;32mIn [13]\u001b[0m, in \u001b[0;36m<cell line: 2>\u001b[1;34m()\u001b[0m\n\u001b[0;32m      1\u001b[0m plt\u001b[38;5;241m.\u001b[39mfigure(figsize\u001b[38;5;241m=\u001b[39m(\u001b[38;5;241m10\u001b[39m,\u001b[38;5;241m5\u001b[39m))\n\u001b[1;32m----> 2\u001b[0m \u001b[43msns\u001b[49m\u001b[38;5;241;43m.\u001b[39;49m\u001b[43mcountplot\u001b[49m\u001b[43m(\u001b[49m\u001b[43mx\u001b[49m\u001b[38;5;241;43m=\u001b[39;49m\u001b[38;5;124;43m'\u001b[39;49m\u001b[38;5;124;43mGender\u001b[39;49m\u001b[38;5;124;43m'\u001b[39;49m\u001b[43m,\u001b[49m\u001b[43mdata\u001b[49m\u001b[38;5;241;43m=\u001b[39;49m\u001b[43mdf\u001b[49m\u001b[43m,\u001b[49m\u001b[43mhue\u001b[49m\u001b[38;5;241;43m=\u001b[39;49m\u001b[38;5;124;43m'\u001b[39;49m\u001b[38;5;124;43mLoan_Status\u001b[39;49m\u001b[38;5;124;43m'\u001b[39;49m\u001b[43m,\u001b[49m\u001b[43mpalette\u001b[49m\u001b[38;5;241;43m=\u001b[39;49m\u001b[38;5;124;43m'\u001b[39;49m\u001b[38;5;124;43mGreens_d\u001b[39;49m\u001b[38;5;124;43m'\u001b[39;49m\u001b[43m)\u001b[49m\n\u001b[0;32m      3\u001b[0m plt\u001b[38;5;241m.\u001b[39mshow()\n",
      "File \u001b[1;32m~\\AppData\\Local\\Programs\\Python\\Python310\\lib\\site-packages\\seaborn\\categorical.py:2615\u001b[0m, in \u001b[0;36mcountplot\u001b[1;34m(data, x, y, hue, order, hue_order, orient, color, palette, saturation, fill, hue_norm, stat, width, dodge, gap, log_scale, native_scale, formatter, legend, ax, **kwargs)\u001b[0m\n\u001b[0;32m   2612\u001b[0m \u001b[38;5;28;01melif\u001b[39;00m x \u001b[38;5;129;01mis\u001b[39;00m \u001b[38;5;129;01mnot\u001b[39;00m \u001b[38;5;28;01mNone\u001b[39;00m \u001b[38;5;129;01mand\u001b[39;00m y \u001b[38;5;129;01mis\u001b[39;00m \u001b[38;5;129;01mnot\u001b[39;00m \u001b[38;5;28;01mNone\u001b[39;00m:\n\u001b[0;32m   2613\u001b[0m     \u001b[38;5;28;01mraise\u001b[39;00m \u001b[38;5;167;01mTypeError\u001b[39;00m(\u001b[38;5;124m\"\u001b[39m\u001b[38;5;124mCannot pass values for both `x` and `y`.\u001b[39m\u001b[38;5;124m\"\u001b[39m)\n\u001b[1;32m-> 2615\u001b[0m p \u001b[38;5;241m=\u001b[39m \u001b[43m_CategoricalAggPlotter\u001b[49m\u001b[43m(\u001b[49m\n\u001b[0;32m   2616\u001b[0m \u001b[43m    \u001b[49m\u001b[43mdata\u001b[49m\u001b[38;5;241;43m=\u001b[39;49m\u001b[43mdata\u001b[49m\u001b[43m,\u001b[49m\n\u001b[0;32m   2617\u001b[0m \u001b[43m    \u001b[49m\u001b[43mvariables\u001b[49m\u001b[38;5;241;43m=\u001b[39;49m\u001b[38;5;28;43mdict\u001b[39;49m\u001b[43m(\u001b[49m\u001b[43mx\u001b[49m\u001b[38;5;241;43m=\u001b[39;49m\u001b[43mx\u001b[49m\u001b[43m,\u001b[49m\u001b[43m \u001b[49m\u001b[43my\u001b[49m\u001b[38;5;241;43m=\u001b[39;49m\u001b[43my\u001b[49m\u001b[43m,\u001b[49m\u001b[43m \u001b[49m\u001b[43mhue\u001b[49m\u001b[38;5;241;43m=\u001b[39;49m\u001b[43mhue\u001b[49m\u001b[43m)\u001b[49m\u001b[43m,\u001b[49m\n\u001b[0;32m   2618\u001b[0m \u001b[43m    \u001b[49m\u001b[43morder\u001b[49m\u001b[38;5;241;43m=\u001b[39;49m\u001b[43morder\u001b[49m\u001b[43m,\u001b[49m\n\u001b[0;32m   2619\u001b[0m \u001b[43m    \u001b[49m\u001b[43morient\u001b[49m\u001b[38;5;241;43m=\u001b[39;49m\u001b[43morient\u001b[49m\u001b[43m,\u001b[49m\n\u001b[0;32m   2620\u001b[0m \u001b[43m    \u001b[49m\u001b[43mcolor\u001b[49m\u001b[38;5;241;43m=\u001b[39;49m\u001b[43mcolor\u001b[49m\u001b[43m,\u001b[49m\n\u001b[0;32m   2621\u001b[0m \u001b[43m    \u001b[49m\u001b[43mlegend\u001b[49m\u001b[38;5;241;43m=\u001b[39;49m\u001b[43mlegend\u001b[49m\u001b[43m,\u001b[49m\n\u001b[0;32m   2622\u001b[0m \u001b[43m\u001b[49m\u001b[43m)\u001b[49m\n\u001b[0;32m   2624\u001b[0m \u001b[38;5;28;01mif\u001b[39;00m ax \u001b[38;5;129;01mis\u001b[39;00m \u001b[38;5;28;01mNone\u001b[39;00m:\n\u001b[0;32m   2625\u001b[0m     ax \u001b[38;5;241m=\u001b[39m plt\u001b[38;5;241m.\u001b[39mgca()\n",
      "File \u001b[1;32m~\\AppData\\Local\\Programs\\Python\\Python310\\lib\\site-packages\\seaborn\\categorical.py:62\u001b[0m, in \u001b[0;36m_CategoricalPlotter.__init__\u001b[1;34m(self, data, variables, order, orient, require_numeric, color, legend)\u001b[0m\n\u001b[0;32m     51\u001b[0m \u001b[38;5;28;01mdef\u001b[39;00m \u001b[38;5;21m__init__\u001b[39m(\n\u001b[0;32m     52\u001b[0m     \u001b[38;5;28mself\u001b[39m,\n\u001b[0;32m     53\u001b[0m     data\u001b[38;5;241m=\u001b[39m\u001b[38;5;28;01mNone\u001b[39;00m,\n\u001b[1;32m   (...)\u001b[0m\n\u001b[0;32m     59\u001b[0m     legend\u001b[38;5;241m=\u001b[39m\u001b[38;5;124m\"\u001b[39m\u001b[38;5;124mauto\u001b[39m\u001b[38;5;124m\"\u001b[39m,\n\u001b[0;32m     60\u001b[0m ):\n\u001b[1;32m---> 62\u001b[0m     \u001b[38;5;28;43msuper\u001b[39;49m\u001b[43m(\u001b[49m\u001b[43m)\u001b[49m\u001b[38;5;241;43m.\u001b[39;49m\u001b[38;5;21;43m__init__\u001b[39;49m\u001b[43m(\u001b[49m\u001b[43mdata\u001b[49m\u001b[38;5;241;43m=\u001b[39;49m\u001b[43mdata\u001b[49m\u001b[43m,\u001b[49m\u001b[43m \u001b[49m\u001b[43mvariables\u001b[49m\u001b[38;5;241;43m=\u001b[39;49m\u001b[43mvariables\u001b[49m\u001b[43m)\u001b[49m\n\u001b[0;32m     64\u001b[0m     \u001b[38;5;66;03m# This method takes care of some bookkeeping that is necessary because the\u001b[39;00m\n\u001b[0;32m     65\u001b[0m     \u001b[38;5;66;03m# original categorical plots (prior to the 2021 refactor) had some rules that\u001b[39;00m\n\u001b[0;32m     66\u001b[0m     \u001b[38;5;66;03m# don't fit exactly into VectorPlotter logic. It may be wise to have a second\u001b[39;00m\n\u001b[1;32m   (...)\u001b[0m\n\u001b[0;32m     71\u001b[0m     \u001b[38;5;66;03m# default VectorPlotter rules. If we do decide to make orient part of the\u001b[39;00m\n\u001b[0;32m     72\u001b[0m     \u001b[38;5;66;03m# _base variable assignment, we'll want to figure out how to express that.\u001b[39;00m\n\u001b[0;32m     73\u001b[0m     \u001b[38;5;28;01mif\u001b[39;00m \u001b[38;5;28mself\u001b[39m\u001b[38;5;241m.\u001b[39minput_format \u001b[38;5;241m==\u001b[39m \u001b[38;5;124m\"\u001b[39m\u001b[38;5;124mwide\u001b[39m\u001b[38;5;124m\"\u001b[39m \u001b[38;5;129;01mand\u001b[39;00m orient \u001b[38;5;129;01min\u001b[39;00m [\u001b[38;5;124m\"\u001b[39m\u001b[38;5;124mh\u001b[39m\u001b[38;5;124m\"\u001b[39m, \u001b[38;5;124m\"\u001b[39m\u001b[38;5;124my\u001b[39m\u001b[38;5;124m\"\u001b[39m]:\n",
      "File \u001b[1;32m~\\AppData\\Local\\Programs\\Python\\Python310\\lib\\site-packages\\seaborn\\_base.py:634\u001b[0m, in \u001b[0;36mVectorPlotter.__init__\u001b[1;34m(self, data, variables)\u001b[0m\n\u001b[0;32m    629\u001b[0m \u001b[38;5;66;03m# var_ordered is relevant only for categorical axis variables, and may\u001b[39;00m\n\u001b[0;32m    630\u001b[0m \u001b[38;5;66;03m# be better handled by an internal axis information object that tracks\u001b[39;00m\n\u001b[0;32m    631\u001b[0m \u001b[38;5;66;03m# such information and is set up by the scale_* methods. The analogous\u001b[39;00m\n\u001b[0;32m    632\u001b[0m \u001b[38;5;66;03m# information for numeric axes would be information about log scales.\u001b[39;00m\n\u001b[0;32m    633\u001b[0m \u001b[38;5;28mself\u001b[39m\u001b[38;5;241m.\u001b[39m_var_ordered \u001b[38;5;241m=\u001b[39m {\u001b[38;5;124m\"\u001b[39m\u001b[38;5;124mx\u001b[39m\u001b[38;5;124m\"\u001b[39m: \u001b[38;5;28;01mFalse\u001b[39;00m, \u001b[38;5;124m\"\u001b[39m\u001b[38;5;124my\u001b[39m\u001b[38;5;124m\"\u001b[39m: \u001b[38;5;28;01mFalse\u001b[39;00m}  \u001b[38;5;66;03m# alt., used DefaultDict\u001b[39;00m\n\u001b[1;32m--> 634\u001b[0m \u001b[38;5;28;43mself\u001b[39;49m\u001b[38;5;241;43m.\u001b[39;49m\u001b[43massign_variables\u001b[49m\u001b[43m(\u001b[49m\u001b[43mdata\u001b[49m\u001b[43m,\u001b[49m\u001b[43m \u001b[49m\u001b[43mvariables\u001b[49m\u001b[43m)\u001b[49m\n\u001b[0;32m    636\u001b[0m \u001b[38;5;66;03m# TODO Lots of tests assume that these are called to initialize the\u001b[39;00m\n\u001b[0;32m    637\u001b[0m \u001b[38;5;66;03m# mappings to default values on class initialization. I'd prefer to\u001b[39;00m\n\u001b[0;32m    638\u001b[0m \u001b[38;5;66;03m# move away from that and only have a mapping when explicitly called.\u001b[39;00m\n\u001b[0;32m    639\u001b[0m \u001b[38;5;28;01mfor\u001b[39;00m var \u001b[38;5;129;01min\u001b[39;00m [\u001b[38;5;124m\"\u001b[39m\u001b[38;5;124mhue\u001b[39m\u001b[38;5;124m\"\u001b[39m, \u001b[38;5;124m\"\u001b[39m\u001b[38;5;124msize\u001b[39m\u001b[38;5;124m\"\u001b[39m, \u001b[38;5;124m\"\u001b[39m\u001b[38;5;124mstyle\u001b[39m\u001b[38;5;124m\"\u001b[39m]:\n",
      "File \u001b[1;32m~\\AppData\\Local\\Programs\\Python\\Python310\\lib\\site-packages\\seaborn\\_base.py:679\u001b[0m, in \u001b[0;36mVectorPlotter.assign_variables\u001b[1;34m(self, data, variables)\u001b[0m\n\u001b[0;32m    674\u001b[0m \u001b[38;5;28;01melse\u001b[39;00m:\n\u001b[0;32m    675\u001b[0m     \u001b[38;5;66;03m# When dealing with long-form input, use the newer PlotData\u001b[39;00m\n\u001b[0;32m    676\u001b[0m     \u001b[38;5;66;03m# object (internal but introduced for the objects interface)\u001b[39;00m\n\u001b[0;32m    677\u001b[0m     \u001b[38;5;66;03m# to centralize / standardize data consumption logic.\u001b[39;00m\n\u001b[0;32m    678\u001b[0m     \u001b[38;5;28mself\u001b[39m\u001b[38;5;241m.\u001b[39minput_format \u001b[38;5;241m=\u001b[39m \u001b[38;5;124m\"\u001b[39m\u001b[38;5;124mlong\u001b[39m\u001b[38;5;124m\"\u001b[39m\n\u001b[1;32m--> 679\u001b[0m     plot_data \u001b[38;5;241m=\u001b[39m \u001b[43mPlotData\u001b[49m\u001b[43m(\u001b[49m\u001b[43mdata\u001b[49m\u001b[43m,\u001b[49m\u001b[43m \u001b[49m\u001b[43mvariables\u001b[49m\u001b[43m)\u001b[49m\n\u001b[0;32m    680\u001b[0m     frame \u001b[38;5;241m=\u001b[39m plot_data\u001b[38;5;241m.\u001b[39mframe\n\u001b[0;32m    681\u001b[0m     names \u001b[38;5;241m=\u001b[39m plot_data\u001b[38;5;241m.\u001b[39mnames\n",
      "File \u001b[1;32m~\\AppData\\Local\\Programs\\Python\\Python310\\lib\\site-packages\\seaborn\\_core\\data.py:58\u001b[0m, in \u001b[0;36mPlotData.__init__\u001b[1;34m(self, data, variables)\u001b[0m\n\u001b[0;32m     51\u001b[0m \u001b[38;5;28;01mdef\u001b[39;00m \u001b[38;5;21m__init__\u001b[39m(\n\u001b[0;32m     52\u001b[0m     \u001b[38;5;28mself\u001b[39m,\n\u001b[0;32m     53\u001b[0m     data: DataSource,\n\u001b[0;32m     54\u001b[0m     variables: \u001b[38;5;28mdict\u001b[39m[\u001b[38;5;28mstr\u001b[39m, VariableSpec],\n\u001b[0;32m     55\u001b[0m ):\n\u001b[0;32m     57\u001b[0m     data \u001b[38;5;241m=\u001b[39m handle_data_source(data)\n\u001b[1;32m---> 58\u001b[0m     frame, names, ids \u001b[38;5;241m=\u001b[39m \u001b[38;5;28;43mself\u001b[39;49m\u001b[38;5;241;43m.\u001b[39;49m\u001b[43m_assign_variables\u001b[49m\u001b[43m(\u001b[49m\u001b[43mdata\u001b[49m\u001b[43m,\u001b[49m\u001b[43m \u001b[49m\u001b[43mvariables\u001b[49m\u001b[43m)\u001b[49m\n\u001b[0;32m     60\u001b[0m     \u001b[38;5;28mself\u001b[39m\u001b[38;5;241m.\u001b[39mframe \u001b[38;5;241m=\u001b[39m frame\n\u001b[0;32m     61\u001b[0m     \u001b[38;5;28mself\u001b[39m\u001b[38;5;241m.\u001b[39mnames \u001b[38;5;241m=\u001b[39m names\n",
      "File \u001b[1;32m~\\AppData\\Local\\Programs\\Python\\Python310\\lib\\site-packages\\seaborn\\_core\\data.py:232\u001b[0m, in \u001b[0;36mPlotData._assign_variables\u001b[1;34m(self, data, variables)\u001b[0m\n\u001b[0;32m    230\u001b[0m     \u001b[38;5;28;01melse\u001b[39;00m:\n\u001b[0;32m    231\u001b[0m         err \u001b[38;5;241m+\u001b[39m\u001b[38;5;241m=\u001b[39m \u001b[38;5;124m\"\u001b[39m\u001b[38;5;124mAn entry with this name does not appear in `data`.\u001b[39m\u001b[38;5;124m\"\u001b[39m\n\u001b[1;32m--> 232\u001b[0m     \u001b[38;5;28;01mraise\u001b[39;00m \u001b[38;5;167;01mValueError\u001b[39;00m(err)\n\u001b[0;32m    234\u001b[0m \u001b[38;5;28;01melse\u001b[39;00m:\n\u001b[0;32m    235\u001b[0m \n\u001b[0;32m    236\u001b[0m     \u001b[38;5;66;03m# Otherwise, assume the value somehow represents data\u001b[39;00m\n\u001b[0;32m    237\u001b[0m \n\u001b[0;32m    238\u001b[0m     \u001b[38;5;66;03m# Ignore empty data structures\u001b[39;00m\n\u001b[0;32m    239\u001b[0m     \u001b[38;5;28;01mif\u001b[39;00m \u001b[38;5;28misinstance\u001b[39m(val, Sized) \u001b[38;5;129;01mand\u001b[39;00m \u001b[38;5;28mlen\u001b[39m(val) \u001b[38;5;241m==\u001b[39m \u001b[38;5;241m0\u001b[39m:\n",
      "\u001b[1;31mValueError\u001b[0m: Could not interpret value `Loan_Status` for `hue`. An entry with this name does not appear in `data`."
     ]
    },
    {
     "data": {
      "text/plain": [
       "<Figure size 720x360 with 0 Axes>"
      ]
     },
     "metadata": {},
     "output_type": "display_data"
    }
   ],
   "source": [
    "plt.figure(figsize=(10,5))\n",
    "sns.countplot(x='Gender',data=df,hue='Loan_Status',palette='Greens_d')\n",
    "plt.show()"
   ]
  },
  {
   "cell_type": "code",
   "execution_count": null,
   "id": "79a852c3",
   "metadata": {
    "execution": {
     "iopub.execute_input": "2022-10-31T01:43:16.225182Z",
     "iopub.status.busy": "2022-10-31T01:43:16.224838Z",
     "iopub.status.idle": "2022-10-31T01:43:16.337153Z",
     "shell.execute_reply": "2022-10-31T01:43:16.336041Z"
    },
    "papermill": {
     "duration": 0.124397,
     "end_time": "2022-10-31T01:43:16.340053",
     "exception": false,
     "start_time": "2022-10-31T01:43:16.215656",
     "status": "completed"
    },
    "tags": []
   },
   "outputs": [],
   "source": [
    "plt.figure(figsize=(5,5))\n",
    "sns.countplot(x='Loan_Status',data=df,palette='deep')\n",
    "plt.show()"
   ]
  },
  {
   "cell_type": "code",
   "execution_count": null,
   "id": "05717f34",
   "metadata": {
    "execution": {
     "iopub.execute_input": "2022-10-31T01:43:16.364797Z",
     "iopub.status.busy": "2022-10-31T01:43:16.364426Z",
     "iopub.status.idle": "2022-10-31T01:43:20.350558Z",
     "shell.execute_reply": "2022-10-31T01:43:20.349073Z"
    },
    "papermill": {
     "duration": 4.001428,
     "end_time": "2022-10-31T01:43:20.353084",
     "exception": false,
     "start_time": "2022-10-31T01:43:16.351656",
     "status": "completed"
    },
    "tags": []
   },
   "outputs": [],
   "source": [
    "plt.figure(figsize=(15,5))\n",
    "sns.scatterplot(x=\"Loan_ID\",y=\"LoanAmount\",data=df)\n",
    "plt.show()"
   ]
  },
  {
   "cell_type": "code",
   "execution_count": null,
   "id": "fe68b4e5",
   "metadata": {
    "execution": {
     "iopub.execute_input": "2022-10-31T01:43:20.373010Z",
     "iopub.status.busy": "2022-10-31T01:43:20.372652Z",
     "iopub.status.idle": "2022-10-31T01:43:24.328118Z",
     "shell.execute_reply": "2022-10-31T01:43:24.327275Z"
    },
    "papermill": {
     "duration": 3.967561,
     "end_time": "2022-10-31T01:43:24.329862",
     "exception": false,
     "start_time": "2022-10-31T01:43:20.362301",
     "status": "completed"
    },
    "tags": []
   },
   "outputs": [],
   "source": [
    "plt.figure(figsize=(10,5))\n",
    "sns.pairplot(df)\n",
    "plt.show()"
   ]
  },
  {
   "cell_type": "code",
   "execution_count": null,
   "id": "dcfc4d39",
   "metadata": {
    "execution": {
     "iopub.execute_input": "2022-10-31T01:43:24.351644Z",
     "iopub.status.busy": "2022-10-31T01:43:24.350719Z",
     "iopub.status.idle": "2022-10-31T01:43:24.527385Z",
     "shell.execute_reply": "2022-10-31T01:43:24.526494Z"
    },
    "papermill": {
     "duration": 0.189558,
     "end_time": "2022-10-31T01:43:24.529226",
     "exception": false,
     "start_time": "2022-10-31T01:43:24.339668",
     "status": "completed"
    },
    "tags": []
   },
   "outputs": [],
   "source": [
    "plt.figure(figsize=(10,5))\n",
    "sns.boxplot(data=df)\n",
    "plt.show()"
   ]
  },
  {
   "cell_type": "markdown",
   "id": "858d0b1e",
   "metadata": {
    "papermill": {
     "duration": 0.010092,
     "end_time": "2022-10-31T01:43:24.550181",
     "exception": false,
     "start_time": "2022-10-31T01:43:24.540089",
     "status": "completed"
    },
    "tags": []
   },
   "source": [
    "### Removing unwanted columns in the dataset"
   ]
  },
  {
   "cell_type": "code",
   "execution_count": 14,
   "id": "39828775",
   "metadata": {
    "execution": {
     "iopub.execute_input": "2022-10-31T01:43:24.573733Z",
     "iopub.status.busy": "2022-10-31T01:43:24.572849Z",
     "iopub.status.idle": "2022-10-31T01:43:24.583269Z",
     "shell.execute_reply": "2022-10-31T01:43:24.581979Z"
    },
    "papermill": {
     "duration": 0.024819,
     "end_time": "2022-10-31T01:43:24.586175",
     "exception": false,
     "start_time": "2022-10-31T01:43:24.561356",
     "status": "completed"
    },
    "tags": []
   },
   "outputs": [],
   "source": [
    "df.drop('Dependents',axis=1,inplace=True)\n",
    "df.drop('ApplicantIncome',axis=1,inplace=True)\n",
    "df.drop('CoapplicantIncome',axis=1,inplace=True)\n",
    "df.drop('LoanAmount',axis=1,inplace=True)\n",
    "df.drop('Loan_Amount_Term',axis=1,inplace=True)\n",
    "df.drop('Credit_History',axis=1,inplace=True)"
   ]
  },
  {
   "cell_type": "code",
   "execution_count": 15,
   "id": "5c4a0494",
   "metadata": {
    "execution": {
     "iopub.execute_input": "2022-10-31T01:43:24.608471Z",
     "iopub.status.busy": "2022-10-31T01:43:24.607893Z",
     "iopub.status.idle": "2022-10-31T01:43:24.619386Z",
     "shell.execute_reply": "2022-10-31T01:43:24.618508Z"
    },
    "papermill": {
     "duration": 0.024684,
     "end_time": "2022-10-31T01:43:24.621162",
     "exception": false,
     "start_time": "2022-10-31T01:43:24.596478",
     "status": "completed"
    },
    "tags": []
   },
   "outputs": [
    {
     "data": {
      "text/html": [
       "<div>\n",
       "<style scoped>\n",
       "    .dataframe tbody tr th:only-of-type {\n",
       "        vertical-align: middle;\n",
       "    }\n",
       "\n",
       "    .dataframe tbody tr th {\n",
       "        vertical-align: top;\n",
       "    }\n",
       "\n",
       "    .dataframe thead th {\n",
       "        text-align: right;\n",
       "    }\n",
       "</style>\n",
       "<table border=\"1\" class=\"dataframe\">\n",
       "  <thead>\n",
       "    <tr style=\"text-align: right;\">\n",
       "      <th></th>\n",
       "      <th>Loan_ID</th>\n",
       "      <th>Gender</th>\n",
       "      <th>Married</th>\n",
       "      <th>Education</th>\n",
       "      <th>Self_Employed</th>\n",
       "      <th>Property_Area</th>\n",
       "    </tr>\n",
       "  </thead>\n",
       "  <tbody>\n",
       "    <tr>\n",
       "      <th>0</th>\n",
       "      <td>LP001015</td>\n",
       "      <td>Male</td>\n",
       "      <td>Yes</td>\n",
       "      <td>Graduate</td>\n",
       "      <td>No</td>\n",
       "      <td>Urban</td>\n",
       "    </tr>\n",
       "    <tr>\n",
       "      <th>1</th>\n",
       "      <td>LP001022</td>\n",
       "      <td>Male</td>\n",
       "      <td>Yes</td>\n",
       "      <td>Graduate</td>\n",
       "      <td>No</td>\n",
       "      <td>Urban</td>\n",
       "    </tr>\n",
       "    <tr>\n",
       "      <th>2</th>\n",
       "      <td>LP001031</td>\n",
       "      <td>Male</td>\n",
       "      <td>Yes</td>\n",
       "      <td>Graduate</td>\n",
       "      <td>No</td>\n",
       "      <td>Urban</td>\n",
       "    </tr>\n",
       "    <tr>\n",
       "      <th>3</th>\n",
       "      <td>LP001035</td>\n",
       "      <td>Male</td>\n",
       "      <td>Yes</td>\n",
       "      <td>Graduate</td>\n",
       "      <td>No</td>\n",
       "      <td>Urban</td>\n",
       "    </tr>\n",
       "    <tr>\n",
       "      <th>4</th>\n",
       "      <td>LP001051</td>\n",
       "      <td>Male</td>\n",
       "      <td>No</td>\n",
       "      <td>Not Graduate</td>\n",
       "      <td>No</td>\n",
       "      <td>Urban</td>\n",
       "    </tr>\n",
       "  </tbody>\n",
       "</table>\n",
       "</div>"
      ],
      "text/plain": [
       "    Loan_ID Gender Married     Education Self_Employed Property_Area\n",
       "0  LP001015   Male     Yes      Graduate            No         Urban\n",
       "1  LP001022   Male     Yes      Graduate            No         Urban\n",
       "2  LP001031   Male     Yes      Graduate            No         Urban\n",
       "3  LP001035   Male     Yes      Graduate            No         Urban\n",
       "4  LP001051   Male      No  Not Graduate            No         Urban"
      ]
     },
     "execution_count": 15,
     "metadata": {},
     "output_type": "execute_result"
    }
   ],
   "source": [
    "df.head()"
   ]
  },
  {
   "cell_type": "markdown",
   "id": "6f8435a5",
   "metadata": {
    "papermill": {
     "duration": 0.009778,
     "end_time": "2022-10-31T01:43:24.641407",
     "exception": false,
     "start_time": "2022-10-31T01:43:24.631629",
     "status": "completed"
    },
    "tags": []
   },
   "source": [
    "### Encoding using get_dummies OneHotEncoder"
   ]
  },
  {
   "cell_type": "code",
   "execution_count": 16,
   "id": "02ff768e",
   "metadata": {
    "execution": {
     "iopub.execute_input": "2022-10-31T01:43:24.663473Z",
     "iopub.status.busy": "2022-10-31T01:43:24.662927Z",
     "iopub.status.idle": "2022-10-31T01:43:24.680904Z",
     "shell.execute_reply": "2022-10-31T01:43:24.680055Z"
    },
    "papermill": {
     "duration": 0.031107,
     "end_time": "2022-10-31T01:43:24.682755",
     "exception": false,
     "start_time": "2022-10-31T01:43:24.651648",
     "status": "completed"
    },
    "tags": []
   },
   "outputs": [
    {
     "ename": "KeyError",
     "evalue": "\"['Loan_Status'] not in index\"",
     "output_type": "error",
     "traceback": [
      "\u001b[1;31m---------------------------------------------------------------------------\u001b[0m",
      "\u001b[1;31mKeyError\u001b[0m                                  Traceback (most recent call last)",
      "Input \u001b[1;32mIn [16]\u001b[0m, in \u001b[0;36m<cell line: 1>\u001b[1;34m()\u001b[0m\n\u001b[1;32m----> 1\u001b[0m df1\u001b[38;5;241m=\u001b[39m\u001b[43mpd\u001b[49m\u001b[38;5;241;43m.\u001b[39;49m\u001b[43mget_dummies\u001b[49m\u001b[43m(\u001b[49m\u001b[43mdf\u001b[49m\u001b[43m,\u001b[49m\u001b[43mcolumns\u001b[49m\u001b[38;5;241;43m=\u001b[39;49m\u001b[43m[\u001b[49m\u001b[38;5;124;43m\"\u001b[39;49m\u001b[38;5;124;43mGender\u001b[39;49m\u001b[38;5;124;43m\"\u001b[39;49m\u001b[43m,\u001b[49m\u001b[38;5;124;43m\"\u001b[39;49m\u001b[38;5;124;43mMarried\u001b[39;49m\u001b[38;5;124;43m\"\u001b[39;49m\u001b[43m,\u001b[49m\u001b[38;5;124;43m\"\u001b[39;49m\u001b[38;5;124;43mEducation\u001b[39;49m\u001b[38;5;124;43m\"\u001b[39;49m\u001b[43m,\u001b[49m\u001b[38;5;124;43m\"\u001b[39;49m\u001b[38;5;124;43mSelf_Employed\u001b[39;49m\u001b[38;5;124;43m\"\u001b[39;49m\u001b[43m,\u001b[49m\u001b[38;5;124;43m\"\u001b[39;49m\u001b[38;5;124;43mProperty_Area\u001b[39;49m\u001b[38;5;124;43m\"\u001b[39;49m\u001b[43m,\u001b[49m\u001b[38;5;124;43m\"\u001b[39;49m\u001b[38;5;124;43mLoan_Status\u001b[39;49m\u001b[38;5;124;43m\"\u001b[39;49m\u001b[43m]\u001b[49m\u001b[43m)\u001b[49m\n\u001b[0;32m      2\u001b[0m df1\u001b[38;5;241m.\u001b[39mhead()\n",
      "File \u001b[1;32m~\\AppData\\Local\\Programs\\Python\\Python310\\lib\\site-packages\\pandas\\core\\reshape\\encoding.py:164\u001b[0m, in \u001b[0;36mget_dummies\u001b[1;34m(data, prefix, prefix_sep, dummy_na, columns, sparse, drop_first, dtype)\u001b[0m\n\u001b[0;32m    162\u001b[0m     \u001b[38;5;28;01mraise\u001b[39;00m \u001b[38;5;167;01mTypeError\u001b[39;00m(\u001b[38;5;124m\"\u001b[39m\u001b[38;5;124mInput must be a list-like for parameter `columns`\u001b[39m\u001b[38;5;124m\"\u001b[39m)\n\u001b[0;32m    163\u001b[0m \u001b[38;5;28;01melse\u001b[39;00m:\n\u001b[1;32m--> 164\u001b[0m     data_to_encode \u001b[38;5;241m=\u001b[39m \u001b[43mdata\u001b[49m\u001b[43m[\u001b[49m\u001b[43mcolumns\u001b[49m\u001b[43m]\u001b[49m\n\u001b[0;32m    166\u001b[0m \u001b[38;5;66;03m# validate prefixes and separator to avoid silently dropping cols\u001b[39;00m\n\u001b[0;32m    167\u001b[0m \u001b[38;5;28;01mdef\u001b[39;00m \u001b[38;5;21mcheck_len\u001b[39m(item, name: \u001b[38;5;28mstr\u001b[39m):\n",
      "File \u001b[1;32m~\\AppData\\Local\\Programs\\Python\\Python310\\lib\\site-packages\\pandas\\core\\frame.py:3902\u001b[0m, in \u001b[0;36mDataFrame.__getitem__\u001b[1;34m(self, key)\u001b[0m\n\u001b[0;32m   3900\u001b[0m     \u001b[38;5;28;01mif\u001b[39;00m is_iterator(key):\n\u001b[0;32m   3901\u001b[0m         key \u001b[38;5;241m=\u001b[39m \u001b[38;5;28mlist\u001b[39m(key)\n\u001b[1;32m-> 3902\u001b[0m     indexer \u001b[38;5;241m=\u001b[39m \u001b[38;5;28;43mself\u001b[39;49m\u001b[38;5;241;43m.\u001b[39;49m\u001b[43mcolumns\u001b[49m\u001b[38;5;241;43m.\u001b[39;49m\u001b[43m_get_indexer_strict\u001b[49m\u001b[43m(\u001b[49m\u001b[43mkey\u001b[49m\u001b[43m,\u001b[49m\u001b[43m \u001b[49m\u001b[38;5;124;43m\"\u001b[39;49m\u001b[38;5;124;43mcolumns\u001b[39;49m\u001b[38;5;124;43m\"\u001b[39;49m\u001b[43m)\u001b[49m[\u001b[38;5;241m1\u001b[39m]\n\u001b[0;32m   3904\u001b[0m \u001b[38;5;66;03m# take() does not accept boolean indexers\u001b[39;00m\n\u001b[0;32m   3905\u001b[0m \u001b[38;5;28;01mif\u001b[39;00m \u001b[38;5;28mgetattr\u001b[39m(indexer, \u001b[38;5;124m\"\u001b[39m\u001b[38;5;124mdtype\u001b[39m\u001b[38;5;124m\"\u001b[39m, \u001b[38;5;28;01mNone\u001b[39;00m) \u001b[38;5;241m==\u001b[39m \u001b[38;5;28mbool\u001b[39m:\n",
      "File \u001b[1;32m~\\AppData\\Local\\Programs\\Python\\Python310\\lib\\site-packages\\pandas\\core\\indexes\\base.py:6114\u001b[0m, in \u001b[0;36mIndex._get_indexer_strict\u001b[1;34m(self, key, axis_name)\u001b[0m\n\u001b[0;32m   6111\u001b[0m \u001b[38;5;28;01melse\u001b[39;00m:\n\u001b[0;32m   6112\u001b[0m     keyarr, indexer, new_indexer \u001b[38;5;241m=\u001b[39m \u001b[38;5;28mself\u001b[39m\u001b[38;5;241m.\u001b[39m_reindex_non_unique(keyarr)\n\u001b[1;32m-> 6114\u001b[0m \u001b[38;5;28;43mself\u001b[39;49m\u001b[38;5;241;43m.\u001b[39;49m\u001b[43m_raise_if_missing\u001b[49m\u001b[43m(\u001b[49m\u001b[43mkeyarr\u001b[49m\u001b[43m,\u001b[49m\u001b[43m \u001b[49m\u001b[43mindexer\u001b[49m\u001b[43m,\u001b[49m\u001b[43m \u001b[49m\u001b[43maxis_name\u001b[49m\u001b[43m)\u001b[49m\n\u001b[0;32m   6116\u001b[0m keyarr \u001b[38;5;241m=\u001b[39m \u001b[38;5;28mself\u001b[39m\u001b[38;5;241m.\u001b[39mtake(indexer)\n\u001b[0;32m   6117\u001b[0m \u001b[38;5;28;01mif\u001b[39;00m \u001b[38;5;28misinstance\u001b[39m(key, Index):\n\u001b[0;32m   6118\u001b[0m     \u001b[38;5;66;03m# GH 42790 - Preserve name from an Index\u001b[39;00m\n",
      "File \u001b[1;32m~\\AppData\\Local\\Programs\\Python\\Python310\\lib\\site-packages\\pandas\\core\\indexes\\base.py:6178\u001b[0m, in \u001b[0;36mIndex._raise_if_missing\u001b[1;34m(self, key, indexer, axis_name)\u001b[0m\n\u001b[0;32m   6175\u001b[0m     \u001b[38;5;28;01mraise\u001b[39;00m \u001b[38;5;167;01mKeyError\u001b[39;00m(\u001b[38;5;124mf\u001b[39m\u001b[38;5;124m\"\u001b[39m\u001b[38;5;124mNone of [\u001b[39m\u001b[38;5;132;01m{\u001b[39;00mkey\u001b[38;5;132;01m}\u001b[39;00m\u001b[38;5;124m] are in the [\u001b[39m\u001b[38;5;132;01m{\u001b[39;00maxis_name\u001b[38;5;132;01m}\u001b[39;00m\u001b[38;5;124m]\u001b[39m\u001b[38;5;124m\"\u001b[39m)\n\u001b[0;32m   6177\u001b[0m not_found \u001b[38;5;241m=\u001b[39m \u001b[38;5;28mlist\u001b[39m(ensure_index(key)[missing_mask\u001b[38;5;241m.\u001b[39mnonzero()[\u001b[38;5;241m0\u001b[39m]]\u001b[38;5;241m.\u001b[39munique())\n\u001b[1;32m-> 6178\u001b[0m \u001b[38;5;28;01mraise\u001b[39;00m \u001b[38;5;167;01mKeyError\u001b[39;00m(\u001b[38;5;124mf\u001b[39m\u001b[38;5;124m\"\u001b[39m\u001b[38;5;132;01m{\u001b[39;00mnot_found\u001b[38;5;132;01m}\u001b[39;00m\u001b[38;5;124m not in index\u001b[39m\u001b[38;5;124m\"\u001b[39m)\n",
      "\u001b[1;31mKeyError\u001b[0m: \"['Loan_Status'] not in index\""
     ]
    }
   ],
   "source": [
    "df1=pd.get_dummies(df,columns=[\"Gender\",\"Married\",\"Education\",\"Self_Employed\",\"Property_Area\",\"Loan_Status\"])\n",
    "df1.head()"
   ]
  },
  {
   "cell_type": "code",
   "execution_count": null,
   "id": "e748aa5c",
   "metadata": {
    "execution": {
     "iopub.execute_input": "2022-10-31T01:43:24.705454Z",
     "iopub.status.busy": "2022-10-31T01:43:24.704892Z",
     "iopub.status.idle": "2022-10-31T01:43:24.713799Z",
     "shell.execute_reply": "2022-10-31T01:43:24.713150Z"
    },
    "papermill": {
     "duration": 0.02238,
     "end_time": "2022-10-31T01:43:24.715709",
     "exception": false,
     "start_time": "2022-10-31T01:43:24.693329",
     "status": "completed"
    },
    "tags": []
   },
   "outputs": [],
   "source": [
    "df1.drop('Gender_Female',axis=1,inplace=True)\n",
    "df1.drop('Married_No',axis=1,inplace=True)\n",
    "df1.drop('Education_Graduate',axis=1,inplace=True)\n",
    "df1.drop('Self_Employed_No',axis=1,inplace=True)\n",
    "df1.drop('Property_Area_Rural',axis=1,inplace=True)\n",
    "df1.drop('Loan_Status_N',axis=1,inplace=True)"
   ]
  },
  {
   "cell_type": "code",
   "execution_count": null,
   "id": "69c71c95",
   "metadata": {
    "execution": {
     "iopub.execute_input": "2022-10-31T01:43:24.738695Z",
     "iopub.status.busy": "2022-10-31T01:43:24.738185Z",
     "iopub.status.idle": "2022-10-31T01:43:24.749068Z",
     "shell.execute_reply": "2022-10-31T01:43:24.748048Z"
    },
    "papermill": {
     "duration": 0.024397,
     "end_time": "2022-10-31T01:43:24.751028",
     "exception": false,
     "start_time": "2022-10-31T01:43:24.726631",
     "status": "completed"
    },
    "tags": []
   },
   "outputs": [],
   "source": [
    "df1.head()"
   ]
  },
  {
   "cell_type": "markdown",
   "id": "47d662c8",
   "metadata": {
    "papermill": {
     "duration": 0.009987,
     "end_time": "2022-10-31T01:43:24.771615",
     "exception": false,
     "start_time": "2022-10-31T01:43:24.761628",
     "status": "completed"
    },
    "tags": []
   },
   "source": [
    "### Splitting our data into training and testing"
   ]
  },
  {
   "cell_type": "code",
   "execution_count": null,
   "id": "27bacecc",
   "metadata": {
    "execution": {
     "iopub.execute_input": "2022-10-31T01:43:24.794907Z",
     "iopub.status.busy": "2022-10-31T01:43:24.794368Z",
     "iopub.status.idle": "2022-10-31T01:43:24.799852Z",
     "shell.execute_reply": "2022-10-31T01:43:24.798867Z"
    },
    "papermill": {
     "duration": 0.020304,
     "end_time": "2022-10-31T01:43:24.802385",
     "exception": false,
     "start_time": "2022-10-31T01:43:24.782081",
     "status": "completed"
    },
    "tags": []
   },
   "outputs": [],
   "source": [
    "X = df1[[\"Gender_Male\",\"Married_Yes\",\"Education_Not Graduate\",\"Self_Employed_Yes\",\"Property_Area_Semiurban\",\"Property_Area_Urban\"]].values\n",
    "y=df1[\"Loan_Status_Y\"].values"
   ]
  },
  {
   "cell_type": "code",
   "execution_count": null,
   "id": "6738b437",
   "metadata": {
    "execution": {
     "iopub.execute_input": "2022-10-31T01:43:24.825576Z",
     "iopub.status.busy": "2022-10-31T01:43:24.825096Z",
     "iopub.status.idle": "2022-10-31T01:43:25.185263Z",
     "shell.execute_reply": "2022-10-31T01:43:25.184297Z"
    },
    "papermill": {
     "duration": 0.374179,
     "end_time": "2022-10-31T01:43:25.187519",
     "exception": false,
     "start_time": "2022-10-31T01:43:24.813340",
     "status": "completed"
    },
    "tags": []
   },
   "outputs": [],
   "source": [
    "from sklearn.model_selection import train_test_split\n",
    "xtrain,xtest,ytrain,ytest=train_test_split(X,y,test_size=0.2,random_state=0)\n",
    "\n",
    "from sklearn.linear_model import LogisticRegression \n",
    "m1=LogisticRegression()\n",
    "m1.fit(xtrain,ytrain)\n",
    "yp1=m1.predict(xtest)\n",
    "\n",
    "\n",
    "from sklearn.tree import DecisionTreeClassifier\n",
    "m2=DecisionTreeClassifier()\n",
    "m2.fit(xtrain,ytrain)\n",
    "yp2=m2.predict(xtest)"
   ]
  },
  {
   "cell_type": "markdown",
   "id": "81da26cb",
   "metadata": {
    "papermill": {
     "duration": 0.010204,
     "end_time": "2022-10-31T01:43:25.208572",
     "exception": false,
     "start_time": "2022-10-31T01:43:25.198368",
     "status": "completed"
    },
    "tags": []
   },
   "source": [
    "### Accuracy of two models ( LogisticRegression and DecisionTree )\n",
    "#### Finfing the best model.........."
   ]
  },
  {
   "cell_type": "code",
   "execution_count": null,
   "id": "1af057a9",
   "metadata": {
    "execution": {
     "iopub.execute_input": "2022-10-31T01:43:25.233803Z",
     "iopub.status.busy": "2022-10-31T01:43:25.232740Z",
     "iopub.status.idle": "2022-10-31T01:43:25.249807Z",
     "shell.execute_reply": "2022-10-31T01:43:25.248920Z"
    },
    "papermill": {
     "duration": 0.032658,
     "end_time": "2022-10-31T01:43:25.251883",
     "exception": false,
     "start_time": "2022-10-31T01:43:25.219225",
     "status": "completed"
    },
    "tags": []
   },
   "outputs": [],
   "source": [
    "from sklearn.metrics import accuracy_score,precision_score,recall_score,f1_score\n",
    "from sklearn.metrics import classification_report,confusion_matrix \n",
    "print(\"Logistic Regression :\")\n",
    "print(\" accuracy is \",accuracy_score(ytest,yp1))\n",
    "print(\" precision score is \",precision_score(ytest,yp1))\n",
    "print(\" recall is \",recall_score(ytest,yp1))\n",
    "print(\" f1 score is \",f1_score(ytest,yp1))\n",
    "print(\"                                                                                                              \")\n",
    "print(\" classification report is \",classification_report(ytest,yp1))\n",
    "print(\" confusion matrix is \",confusion_matrix(ytest,yp1))"
   ]
  },
  {
   "cell_type": "code",
   "execution_count": null,
   "id": "cf7e150b",
   "metadata": {
    "execution": {
     "iopub.execute_input": "2022-10-31T01:43:25.276721Z",
     "iopub.status.busy": "2022-10-31T01:43:25.275832Z",
     "iopub.status.idle": "2022-10-31T01:43:25.288771Z",
     "shell.execute_reply": "2022-10-31T01:43:25.287950Z"
    },
    "papermill": {
     "duration": 0.026638,
     "end_time": "2022-10-31T01:43:25.290538",
     "exception": false,
     "start_time": "2022-10-31T01:43:25.263900",
     "status": "completed"
    },
    "tags": []
   },
   "outputs": [],
   "source": [
    "print(\"Decision Tree Classifier :\")\n",
    "print(\" accuracy is \",accuracy_score(ytest,yp2))\n",
    "print(\" precision score is \",precision_score(ytest,yp2))\n",
    "print(\" recall is \",recall_score(ytest,yp2))\n",
    "print(\" f1 score is \",f1_score(ytest,yp2))\n",
    "print(\"                                                                                                              \")\n",
    "print(\" classification report is \",classification_report(ytest,yp2))\n",
    "print(\" confusion matrix is \",confusion_matrix(ytest,yp2))"
   ]
  },
  {
   "cell_type": "code",
   "execution_count": null,
   "id": "997ca48c",
   "metadata": {
    "execution": {
     "iopub.execute_input": "2022-10-31T01:43:25.315989Z",
     "iopub.status.busy": "2022-10-31T01:43:25.315277Z",
     "iopub.status.idle": "2022-10-31T01:43:25.329551Z",
     "shell.execute_reply": "2022-10-31T01:43:25.328665Z"
    },
    "papermill": {
     "duration": 0.030424,
     "end_time": "2022-10-31T01:43:25.331724",
     "exception": false,
     "start_time": "2022-10-31T01:43:25.301300",
     "status": "completed"
    },
    "tags": []
   },
   "outputs": [],
   "source": [
    "print(\"Logistic Regression :\")\n",
    "print(\" accuracy is \",accuracy_score(ytest,yp1))\n",
    "print(\" precision score is \",precision_score(ytest,yp1))\n",
    "print(\" recall is \",recall_score(ytest,yp1))\n",
    "print(\" f1 score is \",f1_score(ytest,yp1))\n",
    "print(\"***********************************************************************************************************\")\n",
    "print(\"Decision Tree Classifier :\")\n",
    "print(\" accuracy is \",accuracy_score(ytest,yp2))\n",
    "print(\" precision score is \",precision_score(ytest,yp2))\n",
    "print(\" recall is \",recall_score(ytest,yp2))\n",
    "print(\" f1 score is \",f1_score(ytest,yp2))"
   ]
  },
  {
   "cell_type": "code",
   "execution_count": null,
   "id": "4de8d261",
   "metadata": {
    "execution": {
     "iopub.execute_input": "2022-10-31T01:43:25.355443Z",
     "iopub.status.busy": "2022-10-31T01:43:25.355062Z",
     "iopub.status.idle": "2022-10-31T01:43:25.361742Z",
     "shell.execute_reply": "2022-10-31T01:43:25.360559Z"
    },
    "papermill": {
     "duration": 0.021567,
     "end_time": "2022-10-31T01:43:25.364252",
     "exception": false,
     "start_time": "2022-10-31T01:43:25.342685",
     "status": "completed"
    },
    "tags": []
   },
   "outputs": [],
   "source": [
    "print(\"Logistic Regression Predictions \",yp1)\n",
    "print(\"*****************************************************************************************************************\")\n",
    "print(\"Decision Tree predictions \",yp2)"
   ]
  },
  {
   "cell_type": "markdown",
   "id": "bf1e7480",
   "metadata": {
    "papermill": {
     "duration": 0.01157,
     "end_time": "2022-10-31T01:43:25.387908",
     "exception": false,
     "start_time": "2022-10-31T01:43:25.376338",
     "status": "completed"
    },
    "tags": []
   },
   "source": [
    "#### Final accuracies of two models are :"
   ]
  },
  {
   "cell_type": "code",
   "execution_count": 17,
   "id": "13dcbf7e",
   "metadata": {
    "execution": {
     "iopub.execute_input": "2022-10-31T01:43:25.415369Z",
     "iopub.status.busy": "2022-10-31T01:43:25.414722Z",
     "iopub.status.idle": "2022-10-31T01:43:25.420580Z",
     "shell.execute_reply": "2022-10-31T01:43:25.419819Z"
    },
    "papermill": {
     "duration": 0.020628,
     "end_time": "2022-10-31T01:43:25.422462",
     "exception": false,
     "start_time": "2022-10-31T01:43:25.401834",
     "status": "completed"
    },
    "tags": []
   },
   "outputs": [
    {
     "name": "stdout",
     "output_type": "stream",
     "text": [
      "For Logistic Regression :\n"
     ]
    },
    {
     "ename": "NameError",
     "evalue": "name 'accuracy_score' is not defined",
     "output_type": "error",
     "traceback": [
      "\u001b[1;31m---------------------------------------------------------------------------\u001b[0m",
      "\u001b[1;31mNameError\u001b[0m                                 Traceback (most recent call last)",
      "Input \u001b[1;32mIn [17]\u001b[0m, in \u001b[0;36m<cell line: 2>\u001b[1;34m()\u001b[0m\n\u001b[0;32m      1\u001b[0m \u001b[38;5;28mprint\u001b[39m(\u001b[38;5;124m\"\u001b[39m\u001b[38;5;124mFor Logistic Regression :\u001b[39m\u001b[38;5;124m\"\u001b[39m)\n\u001b[1;32m----> 2\u001b[0m \u001b[38;5;28mprint\u001b[39m(\u001b[38;5;124m\"\u001b[39m\u001b[38;5;124m accuracy is \u001b[39m\u001b[38;5;124m\"\u001b[39m,\u001b[43maccuracy_score\u001b[49m(ytest,yp1))\n\u001b[0;32m      3\u001b[0m \u001b[38;5;28mprint\u001b[39m(\u001b[38;5;124m\"\u001b[39m\u001b[38;5;124mFor Decision tree :\u001b[39m\u001b[38;5;124m\"\u001b[39m)\n\u001b[0;32m      4\u001b[0m \u001b[38;5;28mprint\u001b[39m(\u001b[38;5;124m\"\u001b[39m\u001b[38;5;124m accuracy is \u001b[39m\u001b[38;5;124m\"\u001b[39m,accuracy_score(ytest,yp2))\n",
      "\u001b[1;31mNameError\u001b[0m: name 'accuracy_score' is not defined"
     ]
    }
   ],
   "source": [
    "print(\"For Logistic Regression :\")\n",
    "print(\" accuracy is \",accuracy_score(ytest,yp1))\n",
    "print(\"For Decision tree :\")\n",
    "print(\" accuracy is \",accuracy_score(ytest,yp2))"
   ]
  },
  {
   "cell_type": "markdown",
   "id": "5e889c5f",
   "metadata": {
    "papermill": {
     "duration": 0.0118,
     "end_time": "2022-10-31T01:43:25.445583",
     "exception": false,
     "start_time": "2022-10-31T01:43:25.433783",
     "status": "completed"
    },
    "tags": []
   },
   "source": [
    "### Hence Decision Tree performs with more accuracy than LogisticRegression "
   ]
  },
  {
   "cell_type": "code",
   "execution_count": null,
   "id": "96948bef",
   "metadata": {
    "papermill": {
     "duration": 0.01072,
     "end_time": "2022-10-31T01:43:25.467354",
     "exception": false,
     "start_time": "2022-10-31T01:43:25.456634",
     "status": "completed"
    },
    "tags": []
   },
   "outputs": [],
   "source": []
  }
 ],
 "metadata": {
  "kernelspec": {
   "display_name": "Python 3 (ipykernel)",
   "language": "python",
   "name": "python3"
  },
  "language_info": {
   "codemirror_mode": {
    "name": "ipython",
    "version": 3
   },
   "file_extension": ".py",
   "mimetype": "text/x-python",
   "name": "python",
   "nbconvert_exporter": "python",
   "pygments_lexer": "ipython3",
   "version": "3.10.4"
  },
  "papermill": {
   "default_parameters": {},
   "duration": 20.100647,
   "end_time": "2022-10-31T01:43:26.301701",
   "environment_variables": {},
   "exception": null,
   "input_path": "__notebook__.ipynb",
   "output_path": "__notebook__.ipynb",
   "parameters": {},
   "start_time": "2022-10-31T01:43:06.201054",
   "version": "2.3.4"
  }
 },
 "nbformat": 4,
 "nbformat_minor": 5
}
